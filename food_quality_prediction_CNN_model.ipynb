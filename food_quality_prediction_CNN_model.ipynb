{
 "cells": [
  {
   "cell_type": "code",
   "execution_count": 1,
   "id": "a5dbeefe",
   "metadata": {},
   "outputs": [],
   "source": [
    "#Importing libraries"
   ]
  },
  {
   "cell_type": "code",
   "execution_count": 2,
   "id": "5df3cab3",
   "metadata": {},
   "outputs": [
    {
     "name": "stdout",
     "output_type": "stream",
     "text": [
      "WARNING:tensorflow:From C:\\Users\\Khushali Gupta\\AppData\\Roaming\\Python\\Python311\\site-packages\\keras\\src\\losses.py:2976: The name tf.losses.sparse_softmax_cross_entropy is deprecated. Please use tf.compat.v1.losses.sparse_softmax_cross_entropy instead.\n",
      "\n"
     ]
    }
   ],
   "source": [
    "from keras.models import Sequential "
   ]
  },
  {
   "cell_type": "code",
   "execution_count": 3,
   "id": "f8a5ae63",
   "metadata": {},
   "outputs": [],
   "source": [
    "from keras.layers import Conv2D, MaxPooling2D, BatchNormalization "
   ]
  },
  {
   "cell_type": "code",
   "execution_count": 4,
   "id": "67a42173",
   "metadata": {},
   "outputs": [],
   "source": [
    "from keras.layers import Activation, Dropout, Flatten, Dense"
   ]
  },
  {
   "cell_type": "code",
   "execution_count": 5,
   "id": "2b275251",
   "metadata": {},
   "outputs": [],
   "source": [
    "import os\n",
    "import cv2\n",
    "from PIL import Image\n",
    "import numpy as np\n"
   ]
  },
  {
   "cell_type": "code",
   "execution_count": 6,
   "id": "819a55fe",
   "metadata": {},
   "outputs": [],
   "source": [
    "#data collection"
   ]
  },
  {
   "cell_type": "code",
   "execution_count": 7,
   "id": "2c4b55c3",
   "metadata": {},
   "outputs": [],
   "source": [
    "import cv2\n",
    "\n",
    "classes = {'fresh_tomato':0,'stale_tomato':1}\n",
    "x=[]\n",
    "y=[]\n",
    "for cls in classes:\n",
    "    pth='D://Tomatoes//'+cls\n",
    "    for j in os.listdir(pth):\n",
    "        img=cv2.imread(os.path.join(pth,j),0)\n",
    "        img=cv2.resize(img,(200,200))\n",
    "        x.append(img)\n",
    "        y.append(classes[cls])"
   ]
  },
  {
   "cell_type": "code",
   "execution_count": 8,
   "id": "e0e53c08",
   "metadata": {},
   "outputs": [
    {
     "name": "stdout",
     "output_type": "stream",
     "text": [
      "{'fresh_tomato': 0, 'stale_tomato': 1}\n"
     ]
    }
   ],
   "source": [
    "print(classes)"
   ]
  },
  {
   "cell_type": "code",
   "execution_count": 9,
   "id": "2d27ac58",
   "metadata": {},
   "outputs": [],
   "source": [
    "y = np.array(y)\n",
    "x = np.array(x)"
   ]
  },
  {
   "cell_type": "code",
   "execution_count": 10,
   "id": "b5f0f866",
   "metadata": {},
   "outputs": [
    {
     "name": "stdout",
     "output_type": "stream",
     "text": [
      "[[0 0 0 ... 0 0 0]\n",
      " [0 0 0 ... 0 0 0]\n",
      " [0 0 0 ... 0 0 0]\n",
      " ...\n",
      " [0 0 0 ... 0 0 0]\n",
      " [0 0 0 ... 0 0 0]\n",
      " [0 0 0 ... 0 0 0]]\n"
     ]
    }
   ],
   "source": [
    "print(x[10])"
   ]
  },
  {
   "cell_type": "code",
   "execution_count": 11,
   "id": "6f55039c",
   "metadata": {},
   "outputs": [],
   "source": [
    "#data splitting"
   ]
  },
  {
   "cell_type": "code",
   "execution_count": 12,
   "id": "96dfce47",
   "metadata": {},
   "outputs": [],
   "source": [
    "from sklearn.model_selection import train_test_split\n",
    "\n",
    "X_train, X_test, y_train, y_test = train_test_split(x, y, test_size = 0.20, random_state = 0, stratify = y)\n",
    "\n"
   ]
  },
  {
   "cell_type": "code",
   "execution_count": 13,
   "id": "01e658b0",
   "metadata": {},
   "outputs": [],
   "source": [
    "#data normalization"
   ]
  },
  {
   "cell_type": "code",
   "execution_count": 14,
   "id": "15a4f371",
   "metadata": {},
   "outputs": [],
   "source": [
    "X_train = X_train / 255.0\n",
    "X_test = X_test / 255.0\n"
   ]
  },
  {
   "cell_type": "code",
   "execution_count": 15,
   "id": "203fb4d5",
   "metadata": {},
   "outputs": [],
   "source": [
    "#building neural network"
   ]
  },
  {
   "cell_type": "code",
   "execution_count": 16,
   "id": "3f8b988a",
   "metadata": {},
   "outputs": [
    {
     "name": "stdout",
     "output_type": "stream",
     "text": [
      "WARNING:tensorflow:From C:\\Users\\Khushali Gupta\\AppData\\Roaming\\Python\\Python311\\site-packages\\keras\\src\\backend.py:873: The name tf.get_default_graph is deprecated. Please use tf.compat.v1.get_default_graph instead.\n",
      "\n",
      "WARNING:tensorflow:From C:\\Users\\Khushali Gupta\\AppData\\Roaming\\Python\\Python311\\site-packages\\keras\\src\\layers\\pooling\\max_pooling2d.py:161: The name tf.nn.max_pool is deprecated. Please use tf.nn.max_pool2d instead.\n",
      "\n",
      "WARNING:tensorflow:From C:\\Users\\Khushali Gupta\\AppData\\Roaming\\Python\\Python311\\site-packages\\keras\\src\\optimizers\\__init__.py:309: The name tf.train.Optimizer is deprecated. Please use tf.compat.v1.train.Optimizer instead.\n",
      "\n"
     ]
    }
   ],
   "source": [
    "INPUT_SHAPE = (200, 200, 1)   \n",
    "\n",
    "model = Sequential()\n",
    "model.add(Conv2D(32, (3, 3), input_shape=INPUT_SHAPE))\n",
    "          \n",
    "model.add(Activation('relu'))\n",
    "model.add(MaxPooling2D(pool_size=(2, 2)))\n",
    "\n",
    "model.add(Conv2D(32, (3, 3), kernel_initializer = 'he_uniform'))\n",
    "model.add(Activation('relu'))\n",
    "model.add(MaxPooling2D(pool_size=(2, 2)))\n",
    "\n",
    "model.add(Conv2D(64, (3, 3), kernel_initializer = 'he_uniform'))\n",
    "model.add(Activation('relu'))\n",
    "model.add(MaxPooling2D(pool_size=(2, 2)))\n",
    "\n",
    "model.add(Flatten())\n",
    "model.add(Dense(64))\n",
    "model.add(Activation('relu'))\n",
    "model.add(Dropout(0.5))\n",
    "\n",
    "model.add(Dense(1))\n",
    "model.add(Activation('sigmoid'))  \n",
    "\n",
    "model.compile(loss='binary_crossentropy',\n",
    "              optimizer='rmsprop',            \n",
    "              metrics=['accuracy'])"
   ]
  },
  {
   "cell_type": "code",
   "execution_count": 17,
   "id": "c8aaa9c0",
   "metadata": {},
   "outputs": [
    {
     "name": "stdout",
     "output_type": "stream",
     "text": [
      "Model: \"sequential\"\n",
      "_________________________________________________________________\n",
      " Layer (type)                Output Shape              Param #   \n",
      "=================================================================\n",
      " conv2d (Conv2D)             (None, 198, 198, 32)      320       \n",
      "                                                                 \n",
      " activation (Activation)     (None, 198, 198, 32)      0         \n",
      "                                                                 \n",
      " max_pooling2d (MaxPooling2  (None, 99, 99, 32)        0         \n",
      " D)                                                              \n",
      "                                                                 \n",
      " conv2d_1 (Conv2D)           (None, 97, 97, 32)        9248      \n",
      "                                                                 \n",
      " activation_1 (Activation)   (None, 97, 97, 32)        0         \n",
      "                                                                 \n",
      " max_pooling2d_1 (MaxPoolin  (None, 48, 48, 32)        0         \n",
      " g2D)                                                            \n",
      "                                                                 \n",
      " conv2d_2 (Conv2D)           (None, 46, 46, 64)        18496     \n",
      "                                                                 \n",
      " activation_2 (Activation)   (None, 46, 46, 64)        0         \n",
      "                                                                 \n",
      " max_pooling2d_2 (MaxPoolin  (None, 23, 23, 64)        0         \n",
      " g2D)                                                            \n",
      "                                                                 \n",
      " flatten (Flatten)           (None, 33856)             0         \n",
      "                                                                 \n",
      " dense (Dense)               (None, 64)                2166848   \n",
      "                                                                 \n",
      " activation_3 (Activation)   (None, 64)                0         \n",
      "                                                                 \n",
      " dropout (Dropout)           (None, 64)                0         \n",
      "                                                                 \n",
      " dense_1 (Dense)             (None, 1)                 65        \n",
      "                                                                 \n",
      " activation_4 (Activation)   (None, 1)                 0         \n",
      "                                                                 \n",
      "=================================================================\n",
      "Total params: 2194977 (8.37 MB)\n",
      "Trainable params: 2194977 (8.37 MB)\n",
      "Non-trainable params: 0 (0.00 Byte)\n",
      "_________________________________________________________________\n",
      "None\n"
     ]
    }
   ],
   "source": [
    "print(model.summary())  "
   ]
  },
  {
   "cell_type": "code",
   "execution_count": 18,
   "id": "256a7557",
   "metadata": {},
   "outputs": [],
   "source": [
    "#model training"
   ]
  },
  {
   "cell_type": "code",
   "execution_count": 19,
   "id": "270bd05a",
   "metadata": {
    "scrolled": true
   },
   "outputs": [
    {
     "name": "stdout",
     "output_type": "stream",
     "text": [
      "Epoch 1/60\n",
      "WARNING:tensorflow:From C:\\Users\\Khushali Gupta\\AppData\\Roaming\\Python\\Python311\\site-packages\\keras\\src\\utils\\tf_utils.py:492: The name tf.ragged.RaggedTensorValue is deprecated. Please use tf.compat.v1.ragged.RaggedTensorValue instead.\n",
      "\n",
      "WARNING:tensorflow:From C:\\Users\\Khushali Gupta\\AppData\\Roaming\\Python\\Python311\\site-packages\\keras\\src\\engine\\base_layer_utils.py:384: The name tf.executing_eagerly_outside_functions is deprecated. Please use tf.compat.v1.executing_eagerly_outside_functions instead.\n",
      "\n",
      "40/40 [==============================] - 12s 277ms/step - loss: 1.1002 - accuracy: 0.4944 - val_loss: 0.6932 - val_accuracy: 0.4936\n",
      "Epoch 2/60\n",
      "40/40 [==============================] - 11s 264ms/step - loss: 0.7042 - accuracy: 0.4960 - val_loss: 0.6934 - val_accuracy: 0.4522\n",
      "Epoch 3/60\n",
      "40/40 [==============================] - 10s 259ms/step - loss: 0.6950 - accuracy: 0.5151 - val_loss: 0.7603 - val_accuracy: 0.4936\n",
      "Epoch 4/60\n",
      "40/40 [==============================] - 10s 262ms/step - loss: 0.6979 - accuracy: 0.5326 - val_loss: 0.6839 - val_accuracy: 0.4936\n",
      "Epoch 5/60\n",
      "40/40 [==============================] - 10s 259ms/step - loss: 0.6759 - accuracy: 0.5725 - val_loss: 0.6748 - val_accuracy: 0.5892\n",
      "Epoch 6/60\n",
      "40/40 [==============================] - 10s 261ms/step - loss: 0.6584 - accuracy: 0.6330 - val_loss: 0.7122 - val_accuracy: 0.5637\n",
      "Epoch 7/60\n",
      "40/40 [==============================] - 10s 263ms/step - loss: 0.5944 - accuracy: 0.6664 - val_loss: 0.5935 - val_accuracy: 0.6752\n",
      "Epoch 8/60\n",
      "40/40 [==============================] - 10s 261ms/step - loss: 0.5667 - accuracy: 0.6887 - val_loss: 0.5051 - val_accuracy: 0.7803\n",
      "Epoch 9/60\n",
      "40/40 [==============================] - 11s 272ms/step - loss: 0.5345 - accuracy: 0.7118 - val_loss: 0.4331 - val_accuracy: 0.7834\n",
      "Epoch 10/60\n",
      "40/40 [==============================] - 12s 291ms/step - loss: 0.4872 - accuracy: 0.7444 - val_loss: 0.6651 - val_accuracy: 0.6752\n",
      "Epoch 11/60\n",
      "40/40 [==============================] - 12s 292ms/step - loss: 0.4626 - accuracy: 0.7564 - val_loss: 0.4266 - val_accuracy: 0.8153\n",
      "Epoch 12/60\n",
      "40/40 [==============================] - 11s 267ms/step - loss: 0.4782 - accuracy: 0.7516 - val_loss: 0.3879 - val_accuracy: 0.8535\n",
      "Epoch 13/60\n",
      "40/40 [==============================] - 11s 274ms/step - loss: 0.4185 - accuracy: 0.7811 - val_loss: 0.4034 - val_accuracy: 0.8025\n",
      "Epoch 14/60\n",
      "40/40 [==============================] - 11s 283ms/step - loss: 0.3529 - accuracy: 0.8057 - val_loss: 1.0010 - val_accuracy: 0.6115\n",
      "Epoch 15/60\n",
      "40/40 [==============================] - 11s 264ms/step - loss: 0.3836 - accuracy: 0.7922 - val_loss: 0.3749 - val_accuracy: 0.8535\n",
      "Epoch 16/60\n",
      "40/40 [==============================] - 10s 255ms/step - loss: 0.3677 - accuracy: 0.8447 - val_loss: 0.6394 - val_accuracy: 0.7293\n",
      "Epoch 17/60\n",
      "40/40 [==============================] - 10s 259ms/step - loss: 0.3169 - accuracy: 0.8607 - val_loss: 4.3120 - val_accuracy: 0.5064\n",
      "Epoch 18/60\n",
      "40/40 [==============================] - 11s 262ms/step - loss: 0.3863 - accuracy: 0.8575 - val_loss: 0.2843 - val_accuracy: 0.8535\n",
      "Epoch 19/60\n",
      "40/40 [==============================] - 11s 268ms/step - loss: 0.3126 - accuracy: 0.8455 - val_loss: 0.2586 - val_accuracy: 0.8758\n",
      "Epoch 20/60\n",
      "40/40 [==============================] - 11s 269ms/step - loss: 0.2824 - accuracy: 0.8686 - val_loss: 0.2953 - val_accuracy: 0.8439\n",
      "Epoch 21/60\n",
      "40/40 [==============================] - 10s 261ms/step - loss: 0.2799 - accuracy: 0.8670 - val_loss: 0.4040 - val_accuracy: 0.7930\n",
      "Epoch 22/60\n",
      "40/40 [==============================] - 11s 268ms/step - loss: 0.3024 - accuracy: 0.8654 - val_loss: 0.4574 - val_accuracy: 0.7293\n",
      "Epoch 23/60\n",
      "40/40 [==============================] - 11s 282ms/step - loss: 0.2745 - accuracy: 0.8766 - val_loss: 0.2828 - val_accuracy: 0.8662\n",
      "Epoch 24/60\n",
      "40/40 [==============================] - 11s 268ms/step - loss: 0.2498 - accuracy: 0.8830 - val_loss: 0.4281 - val_accuracy: 0.8217\n",
      "Epoch 25/60\n",
      "40/40 [==============================] - 11s 275ms/step - loss: 0.2827 - accuracy: 0.8718 - val_loss: 0.2540 - val_accuracy: 0.8758\n",
      "Epoch 26/60\n",
      "40/40 [==============================] - 11s 273ms/step - loss: 0.2518 - accuracy: 0.8861 - val_loss: 2.4771 - val_accuracy: 0.5223\n",
      "Epoch 27/60\n",
      "40/40 [==============================] - 11s 267ms/step - loss: 0.2880 - accuracy: 0.8869 - val_loss: 0.2127 - val_accuracy: 0.8981\n",
      "Epoch 28/60\n",
      "40/40 [==============================] - 11s 274ms/step - loss: 0.2249 - accuracy: 0.8957 - val_loss: 0.2610 - val_accuracy: 0.8694\n",
      "Epoch 29/60\n",
      "40/40 [==============================] - 11s 270ms/step - loss: 0.2442 - accuracy: 0.8846 - val_loss: 0.2181 - val_accuracy: 0.9045\n",
      "Epoch 30/60\n",
      "40/40 [==============================] - 11s 277ms/step - loss: 0.2186 - accuracy: 0.8917 - val_loss: 1.0836 - val_accuracy: 0.7643\n",
      "Epoch 31/60\n",
      "40/40 [==============================] - 24s 603ms/step - loss: 0.2196 - accuracy: 0.9021 - val_loss: 0.2227 - val_accuracy: 0.9045\n",
      "Epoch 32/60\n",
      "40/40 [==============================] - 13s 328ms/step - loss: 0.2074 - accuracy: 0.9076 - val_loss: 0.6438 - val_accuracy: 0.7293\n",
      "Epoch 33/60\n",
      "40/40 [==============================] - 12s 309ms/step - loss: 0.1993 - accuracy: 0.9013 - val_loss: 0.1968 - val_accuracy: 0.9076\n",
      "Epoch 34/60\n",
      "40/40 [==============================] - 13s 319ms/step - loss: 0.1972 - accuracy: 0.9076 - val_loss: 0.2185 - val_accuracy: 0.9045\n",
      "Epoch 35/60\n",
      "40/40 [==============================] - 12s 290ms/step - loss: 0.2035 - accuracy: 0.9076 - val_loss: 0.2001 - val_accuracy: 0.8981\n",
      "Epoch 36/60\n",
      "40/40 [==============================] - 11s 277ms/step - loss: 0.1703 - accuracy: 0.9252 - val_loss: 0.2231 - val_accuracy: 0.8758\n",
      "Epoch 37/60\n",
      "40/40 [==============================] - 11s 280ms/step - loss: 0.1805 - accuracy: 0.9156 - val_loss: 0.6298 - val_accuracy: 0.7675\n",
      "Epoch 38/60\n",
      "40/40 [==============================] - 11s 284ms/step - loss: 0.1762 - accuracy: 0.9156 - val_loss: 0.1830 - val_accuracy: 0.9108\n",
      "Epoch 39/60\n",
      "40/40 [==============================] - 12s 290ms/step - loss: 0.1649 - accuracy: 0.9260 - val_loss: 0.1924 - val_accuracy: 0.9013\n",
      "Epoch 40/60\n",
      "40/40 [==============================] - 11s 287ms/step - loss: 0.1752 - accuracy: 0.9188 - val_loss: 0.2882 - val_accuracy: 0.8726\n",
      "Epoch 41/60\n",
      "40/40 [==============================] - 13s 327ms/step - loss: 0.1678 - accuracy: 0.9180 - val_loss: 0.2107 - val_accuracy: 0.9013\n",
      "Epoch 42/60\n",
      "40/40 [==============================] - 13s 322ms/step - loss: 0.1913 - accuracy: 0.9124 - val_loss: 0.2303 - val_accuracy: 0.9013\n",
      "Epoch 43/60\n",
      "40/40 [==============================] - 13s 317ms/step - loss: 0.1386 - accuracy: 0.9427 - val_loss: 0.1715 - val_accuracy: 0.9236\n",
      "Epoch 44/60\n",
      "40/40 [==============================] - 12s 298ms/step - loss: 0.1334 - accuracy: 0.9307 - val_loss: 0.1637 - val_accuracy: 0.9331\n",
      "Epoch 45/60\n",
      "40/40 [==============================] - 12s 301ms/step - loss: 0.1393 - accuracy: 0.9299 - val_loss: 0.4215 - val_accuracy: 0.8694\n",
      "Epoch 46/60\n",
      "40/40 [==============================] - 12s 302ms/step - loss: 0.1284 - accuracy: 0.9451 - val_loss: 0.1582 - val_accuracy: 0.9268\n",
      "Epoch 47/60\n",
      "40/40 [==============================] - 12s 307ms/step - loss: 0.1501 - accuracy: 0.9283 - val_loss: 0.1647 - val_accuracy: 0.9268\n",
      "Epoch 48/60\n",
      "40/40 [==============================] - 12s 305ms/step - loss: 0.1244 - accuracy: 0.9387 - val_loss: 0.1830 - val_accuracy: 0.9268\n",
      "Epoch 49/60\n",
      "40/40 [==============================] - 12s 294ms/step - loss: 0.1132 - accuracy: 0.9459 - val_loss: 0.2682 - val_accuracy: 0.9045\n",
      "Epoch 50/60\n",
      "40/40 [==============================] - 12s 296ms/step - loss: 0.1253 - accuracy: 0.9427 - val_loss: 0.1472 - val_accuracy: 0.9268\n",
      "Epoch 51/60\n",
      "40/40 [==============================] - 12s 297ms/step - loss: 0.1028 - accuracy: 0.9490 - val_loss: 0.2852 - val_accuracy: 0.8885\n",
      "Epoch 52/60\n",
      "40/40 [==============================] - 12s 293ms/step - loss: 0.1140 - accuracy: 0.9427 - val_loss: 0.1677 - val_accuracy: 0.9299\n",
      "Epoch 53/60\n",
      "40/40 [==============================] - 12s 291ms/step - loss: 0.1316 - accuracy: 0.9395 - val_loss: 0.2965 - val_accuracy: 0.8981\n",
      "Epoch 54/60\n"
     ]
    },
    {
     "name": "stdout",
     "output_type": "stream",
     "text": [
      "40/40 [==============================] - 12s 300ms/step - loss: 0.1113 - accuracy: 0.9498 - val_loss: 0.1664 - val_accuracy: 0.9268\n",
      "Epoch 55/60\n",
      "40/40 [==============================] - 12s 308ms/step - loss: 0.1068 - accuracy: 0.9419 - val_loss: 0.2063 - val_accuracy: 0.8949\n",
      "Epoch 56/60\n",
      "40/40 [==============================] - 12s 296ms/step - loss: 0.0887 - accuracy: 0.9562 - val_loss: 0.4083 - val_accuracy: 0.8694\n",
      "Epoch 57/60\n",
      "40/40 [==============================] - 12s 297ms/step - loss: 0.1020 - accuracy: 0.9506 - val_loss: 0.1727 - val_accuracy: 0.9108\n",
      "Epoch 58/60\n",
      "40/40 [==============================] - 12s 298ms/step - loss: 0.1203 - accuracy: 0.9395 - val_loss: 0.1653 - val_accuracy: 0.9299\n",
      "Epoch 59/60\n",
      "40/40 [==============================] - 12s 305ms/step - loss: 0.0773 - accuracy: 0.9554 - val_loss: 0.1749 - val_accuracy: 0.9172\n",
      "Epoch 60/60\n",
      "40/40 [==============================] - 13s 316ms/step - loss: 0.1319 - accuracy: 0.9427 - val_loss: 0.1730 - val_accuracy: 0.9236\n"
     ]
    },
    {
     "data": {
      "text/plain": [
       "<keras.src.callbacks.History at 0x1ff373c59d0>"
      ]
     },
     "execution_count": 19,
     "metadata": {},
     "output_type": "execute_result"
    }
   ],
   "source": [
    "model.fit(X_train, y_train, epochs=60, batch_size=32, validation_split=0.2)"
   ]
  },
  {
   "cell_type": "code",
   "execution_count": 20,
   "id": "8113248e",
   "metadata": {
    "scrolled": true
   },
   "outputs": [
    {
     "data": {
      "text/plain": [
       "'C:\\\\Users\\\\Khushali Gupta\\\\Downloads'"
      ]
     },
     "execution_count": 20,
     "metadata": {},
     "output_type": "execute_result"
    }
   ],
   "source": [
    "os.getcwd()"
   ]
  },
  {
   "cell_type": "code",
   "execution_count": 37,
   "id": "2c57a29b",
   "metadata": {},
   "outputs": [
    {
     "name": "stdout",
     "output_type": "stream",
     "text": [
      "1/1 [==============================] - 0s 33ms/step\n",
      "[[4.3812044e-26]\n",
      " [1.0000000e+00]\n",
      " [5.5102859e-28]]\n",
      "Good Quality\n"
     ]
    }
   ],
   "source": [
    "#model prediction\n",
    "\n",
    "import cv2\n",
    "image_path = \"D:/Tomatoes/fresh_tomato/DSCN4069.jpg_0_76.jpg\"\n",
    "image = cv2.imread(image_path)\n",
    "image = cv2.resize(image,(200,200))\n",
    "image = image.reshape(3,200,200,1) / 255.0\n",
    "q=model.predict(image)\n",
    "print(q)\n",
    "if(q[0]>0.5):\n",
    "    print(\"Poor Quality\")\n",
    "else:\n",
    "    print(\"Good Quality\")"
   ]
  },
  {
   "cell_type": "code",
   "execution_count": null,
   "id": "1989f075",
   "metadata": {},
   "outputs": [],
   "source": []
  }
 ],
 "metadata": {
  "kernelspec": {
   "display_name": "Python 3 (ipykernel)",
   "language": "python",
   "name": "python3"
  },
  "language_info": {
   "codemirror_mode": {
    "name": "ipython",
    "version": 3
   },
   "file_extension": ".py",
   "mimetype": "text/x-python",
   "name": "python",
   "nbconvert_exporter": "python",
   "pygments_lexer": "ipython3",
   "version": "3.11.5"
  }
 },
 "nbformat": 4,
 "nbformat_minor": 5
}
